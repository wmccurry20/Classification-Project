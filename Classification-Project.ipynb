from sklearn.metrics import recall_score
from sklearn.metrics import f1_score
from sklearn.metrics import precision_score
from sklearn.tree import DecisionTreeClassifier
from sklearn.naive_bayes import GaussianNB
from sklearn.model_selection import cross_val_score
from sklearn.impute import SimpleImputer
import numpy as np
import pandas as pd

column_names = ['party','handicapped-infants','water-project-cost-sharing','adoption-of-the-budget-resolution','physician-fee-freeze','el-salvador-aid',
               'religious-groups-in-schools','anti-satellite-test-ban','aid-to-nicaraguan-contras','mx-missile','immigration','synfuels-corporation-cutback',
               'education-spending','superfund-right-to-sue','crime','duty-free-exports','export-administration-act-south-africa']
df = pd.read_csv("House_Votes.csv", names = column_names)


tree = DecisionTreeClassifier()
gnb = GaussianNB()

#Change to binary for all columns and rows
df.replace(to_replace = 'y', value = 1, inplace = True)
df.replace(to_replace = 'n', value = 0, inplace = True)
df.replace(to_replace = 'republican', value = 1, inplace = True)
df.replace(to_replace = 'democrat', value = 0, inplace = True)
df.replace(to_replace='?', value=np.nan, inplace = True)
# set up 3 different datframes
df_imputer = SimpleImputer(missing_values= np.nan, strategy ='most_frequent')
df_impute = df_imputer.fit_transform(df)
df_impute = pd.DataFrame(df_impute, columns = column_names)
df_constant = df.replace(np.nan, 2)
df_discard = df.dropna(how = 'any')

dataframes = [df_impute, df_constant, df_discard]
classifiers = [tree, gnb]

for dataframe in dataframes:
    for classifer in classifiers:
        X = dataframe.drop(['party'], 1)
        y = dataframe.party
        F1 = cross_val_score(classifer,X,y, cv = 5, scoring = 'f1')
        precision = cross_val_score(classifer,X,y, cv = 5, scoring = 'precision')
        recall = cross_val_score(classifer,X,y, cv = 5, scoring = 'recall')
        print(classifer)
        print('F1 score is: ', F1.mean(), '\n') 
        print('precision score is:', precision.mean(), '\n')
        print('recall score is', recall.mean(), '\n')
