{
 "cells": [
  {
   "cell_type": "code",
   "execution_count": 19,
   "metadata": {
    "scrolled": false
   },
   "outputs": [],
   "source": [
    "from sklearn.metrics import recall_score\n",
    "from sklearn.metrics import f1_score\n",
    "from sklearn.metrics import precision_score\n",
    "from sklearn.tree import DecisionTreeClassifier\n",
    "from sklearn.naive_bayes import GaussianNB\n",
    "from sklearn.model_selection import cross_val_score\n",
    "from sklearn.impute import SimpleImputer\n",
    "import numpy as np\n",
    "import pandas as pd\n",
    "\n",
    "column_names = ['party','handicapped-infants','water-project-cost-sharing','adoption-of-the-budget-resolution','physician-fee-freeze','el-salvador-aid',\n",
    "               'religious-groups-in-schools','anti-satellite-test-ban','aid-to-nicaraguan-contras','mx-missile','immigration','synfuels-corporation-cutback',\n",
    "               'education-spending','superfund-right-to-sue','crime','duty-free-exports','export-administration-act-south-africa']\n",
    "df = pd.read_csv(\"House_Votes.csv\", names = column_names)\n",
    "\n",
    "\n",
    "tree = DecisionTreeClassifier()\n",
    "gnb = GaussianNB()\n",
    "\n",
    "#Change to binary for all columns and rows\n",
    "df.replace(to_replace = 'y', value = 1, inplace = True)\n",
    "df.replace(to_replace = 'n', value = 0, inplace = True)\n",
    "df.replace(to_replace = 'republican', value = 1, inplace = True)\n",
    "df.replace(to_replace = 'democrat', value = 0, inplace = True)\n",
    "df.replace(to_replace='?', value=np.nan, inplace = True)\n",
    "# set up 3 different datframes\n",
    "df_imputer = SimpleImputer(missing_values= np.nan, strategy ='most_frequent')\n",
    "df_impute = df_imputer.fit_transform(df)\n",
    "df_impute = pd.DataFrame(df_impute, columns = column_names)\n",
    "df_constant = df.replace(np.nan, 2)\n",
    "df_discard = df.dropna(how = 'any')"
   ]
  },
  {
   "cell_type": "code",
   "execution_count": 20,
   "metadata": {},
   "outputs": [
    {
     "name": "stdout",
     "output_type": "stream",
     "text": [
      "DecisionTreeClassifier(class_weight=None, criterion='gini', max_depth=None,\n",
      "            max_features=None, max_leaf_nodes=None,\n",
      "            min_impurity_decrease=0.0, min_impurity_split=None,\n",
      "            min_samples_leaf=1, min_samples_split=2,\n",
      "            min_weight_fraction_leaf=0.0, presort=False, random_state=None,\n",
      "            splitter='best')\n",
      "F1 score is:  0.9291643480331466 \n",
      "\n",
      "precision score is: 0.9299524658348186 \n",
      "\n",
      "recall score is 0.9342245989304813 \n",
      "\n",
      "GaussianNB(priors=None, var_smoothing=1e-09)\n",
      "F1 score is:  0.8987718384901484 \n",
      "\n",
      "precision score is: 0.8841298776782647 \n",
      "\n",
      "recall score is 0.9165775401069519 \n",
      "\n",
      "DecisionTreeClassifier(class_weight=None, criterion='gini', max_depth=None,\n",
      "            max_features=None, max_leaf_nodes=None,\n",
      "            min_impurity_decrease=0.0, min_impurity_split=None,\n",
      "            min_samples_leaf=1, min_samples_split=2,\n",
      "            min_weight_fraction_leaf=0.0, presort=False, random_state=None,\n",
      "            splitter='best')\n",
      "F1 score is:  0.9234474473328159 \n",
      "\n",
      "precision score is: 0.9563413547237077 \n",
      "\n",
      "recall score is 0.9340463458110516 \n",
      "\n",
      "GaussianNB(priors=None, var_smoothing=1e-09)\n",
      "F1 score is:  0.9200054804530508 \n",
      "\n",
      "precision score is: 0.9260130718954247 \n",
      "\n",
      "recall score is 0.9167557932263815 \n",
      "\n",
      "DecisionTreeClassifier(class_weight=None, criterion='gini', max_depth=None,\n",
      "            max_features=None, max_leaf_nodes=None,\n",
      "            min_impurity_decrease=0.0, min_impurity_split=None,\n",
      "            min_samples_leaf=1, min_samples_split=2,\n",
      "            min_weight_fraction_leaf=0.0, presort=False, random_state=None,\n",
      "            splitter='best')\n",
      "F1 score is:  0.9320965580737708 \n",
      "\n",
      "precision score is: 0.9460606060606059 \n",
      "\n",
      "recall score is 0.9528138528138529 \n",
      "\n",
      "GaussianNB(priors=None, var_smoothing=1e-09)\n",
      "F1 score is:  0.9491995393526873 \n",
      "\n",
      "precision score is: 0.9565217391304348 \n",
      "\n",
      "recall score is 0.945021645021645 \n",
      "\n"
     ]
    }
   ],
   "source": [
    "dataframes = [df_impute, df_constant, df_discard]\n",
    "classifiers = [tree, gnb]\n",
    "\n",
    "for dataframe in dataframes:\n",
    "    for classifer in classifiers:\n",
    "        X = dataframe.drop(['party'], 1)\n",
    "        y = dataframe.party\n",
    "        F1 = cross_val_score(classifer,X,y, cv = 5, scoring = 'f1')\n",
    "        precision = cross_val_score(classifer,X,y, cv = 5, scoring = 'precision')\n",
    "        recall = cross_val_score(classifer,X,y, cv = 5, scoring = 'recall')\n",
    "        print(classifer)\n",
    "        print('F1 score is: ', F1.mean(), '\\n') \n",
    "        print('precision score is:', precision.mean(), '\\n')\n",
    "        print('recall score is', recall.mean(), '\\n')\n",
    "        "
   ]
  },
  {
   "cell_type": "code",
   "execution_count": null,
   "metadata": {},
   "outputs": [],
   "source": []
  },
  {
   "cell_type": "code",
   "execution_count": null,
   "metadata": {},
   "outputs": [],
   "source": []
  },
  {
   "cell_type": "code",
   "execution_count": null,
   "metadata": {},
   "outputs": [],
   "source": [
    "\n"
   ]
  },
  {
   "cell_type": "code",
   "execution_count": null,
   "metadata": {},
   "outputs": [],
   "source": []
  },
  {
   "cell_type": "code",
   "execution_count": null,
   "metadata": {},
   "outputs": [],
   "source": [
    "\n"
   ]
  },
  {
   "cell_type": "code",
   "execution_count": null,
   "metadata": {
    "scrolled": false
   },
   "outputs": [],
   "source": []
  },
  {
   "cell_type": "code",
   "execution_count": null,
   "metadata": {},
   "outputs": [],
   "source": []
  }
 ],
 "metadata": {
  "kernelspec": {
   "display_name": "Python 3",
   "language": "python",
   "name": "python3"
  },
  "language_info": {
   "codemirror_mode": {
    "name": "ipython",
    "version": 3
   },
   "file_extension": ".py",
   "mimetype": "text/x-python",
   "name": "python",
   "nbconvert_exporter": "python",
   "pygments_lexer": "ipython3",
   "version": "3.6.8"
  }
 },
 "nbformat": 4,
 "nbformat_minor": 2
}
